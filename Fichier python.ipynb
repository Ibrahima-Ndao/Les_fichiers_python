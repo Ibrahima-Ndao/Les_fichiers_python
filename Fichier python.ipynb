{
 "cells": [
  {
   "cell_type": "markdown",
   "metadata": {},
   "source": [
    "# Lire un fichier"
   ]
  },
  {
   "cell_type": "code",
   "execution_count": 19,
   "metadata": {},
   "outputs": [
    {
     "name": "stdout",
     "output_type": "stream",
     "text": [
      "[\"J'ai 25 ans\\n\", 'I am 25 years old']\n"
     ]
    }
   ],
   "source": [
    "chemin = r'D:\\Data science\\python for Data science\\python_général\\Udemy - La Formation Complète Python 2021 MP4 [Français]\\34 - Les fichiers\\test.txt'\n",
    "with open(chemin, 'r') as f:\n",
    "    #c = f.read().splitlines()\n",
    "    c = f.readlines()\n",
    "    print(c)\n"
   ]
  },
  {
   "cell_type": "markdown",
   "metadata": {},
   "source": [
    "# Écrire dans un fichier\n",
    "### Si le fichier existe il le écrase le contenu et mettre le nouveau contenu \n",
    "### Si le fichier n'existe pas il le cree"
   ]
  },
  {
   "cell_type": "code",
   "execution_count": 20,
   "metadata": {},
   "outputs": [],
   "source": [
    "chemins = r'D:\\Data science\\python for Data science\\python_général\\Udemy - La Formation Complète Python 2021 MP4 [Français]\\34 - Les fichiers\\test1.txt'\n",
    "with open(chemins, 'w') as f:\n",
    "    f.write(\"J'ai 25 ans\")"
   ]
  },
  {
   "cell_type": "markdown",
   "metadata": {},
   "source": [
    "# Ajouter dans un fichier\n",
    "### Il va falloire le fichier existe déja"
   ]
  },
  {
   "cell_type": "code",
   "execution_count": 18,
   "metadata": {},
   "outputs": [],
   "source": [
    "with open(chemin, 'a') as f:\n",
    "    f.write(\"\\nI am 25 years old\")"
   ]
  },
  {
   "cell_type": "markdown",
   "metadata": {},
   "source": [
    "<hr>\n",
    "\n",
    "# Fichier Json"
   ]
  },
  {
   "cell_type": "markdown",
   "metadata": {},
   "source": [
    "## Écrire dans un fichier json"
   ]
  },
  {
   "cell_type": "code",
   "execution_count": 59,
   "metadata": {},
   "outputs": [],
   "source": [
    "import json\n",
    "ch = r'D:\\Data science\\python for Data science\\python_général\\Udemy - La Formation Complète Python 2021 MP4 [Français]\\34 - Les fichiers\\test.json'\n",
    "with open(ch, 'w') as f:\n",
    "    json.dump(['Hello world! Hé' for i in range(10)], f, indent=4, ensure_ascii=False)\n"
   ]
  },
  {
   "cell_type": "markdown",
   "metadata": {},
   "source": [
    "## Lire un fichier Json"
   ]
  },
  {
   "cell_type": "code",
   "execution_count": 61,
   "metadata": {},
   "outputs": [
    {
     "name": "stdout",
     "output_type": "stream",
     "text": [
      "['Hello world! Hé', 'Hello world! Hé', 'Hello world! Hé', 'Hello world! Hé', 'Hello world! Hé', 'Hello world! Hé', 'Hello world! Hé', 'Hello world! Hé', 'Hello world! Hé', 'Hello world! Hé', 0, 1, 2, 3, 4, 5, 6, 7, 8, 9]\n"
     ]
    },
    {
     "data": {
      "text/plain": [
       "['Hello world! Hé',\n",
       " 'Hello world! Hé',\n",
       " 'Hello world! Hé',\n",
       " 'Hello world! Hé',\n",
       " 'Hello world! Hé',\n",
       " 'Hello world! Hé',\n",
       " 'Hello world! Hé',\n",
       " 'Hello world! Hé',\n",
       " 'Hello world! Hé',\n",
       " 'Hello world! Hé',\n",
       " 0,\n",
       " 1,\n",
       " 2,\n",
       " 3,\n",
       " 4,\n",
       " 5,\n",
       " 6,\n",
       " 7,\n",
       " 8,\n",
       " 9]"
      ]
     },
     "execution_count": 61,
     "metadata": {},
     "output_type": "execute_result"
    }
   ],
   "source": [
    "import json\n",
    "ch = r'D:\\Data science\\python for Data science\\python_général\\Udemy - La Formation Complète Python 2021 MP4 [Français]\\34 - Les fichiers\\test.json'\n",
    "with open(ch, 'r') as f:\n",
    "    liste = json.load(f)\n",
    "    print(liste)\n",
    "liste"
   ]
  },
  {
   "cell_type": "code",
   "execution_count": 36,
   "metadata": {},
   "outputs": [
    {
     "name": "stdout",
     "output_type": "stream",
     "text": [
      "Erreur lors du chargement du fichier JSON : Expecting value: line 1 column 1 (char 0)\n"
     ]
    }
   ],
   "source": [
    "import json\n",
    "\n",
    "ch = r'D:\\Data science\\python for Data science\\python_général\\Udemy - La Formation Complète Python 2021 MP4 [Français]\\34 - Les fichiers\\test.json'\n",
    "try:\n",
    "    with open(ch, 'r') as f:\n",
    "        liste = json.load(f)\n",
    "        print(liste)\n",
    "except json.JSONDecodeError as e:\n",
    "    print(\"Erreur lors du chargement du fichier JSON :\", e)\n",
    "except FileNotFoundError:\n",
    "    print(\"Le fichier spécifié n'a pas été trouvé.\")\n",
    "except Exception as e:\n",
    "    print(\"Une erreur s'est produite :\", e)\n"
   ]
  },
  {
   "cell_type": "markdown",
   "metadata": {},
   "source": [
    "## Ajouter Des données dans un fichier json\n",
    "### Cela ce fais de façon différent que les fichiers on procéde a une modification"
   ]
  },
  {
   "cell_type": "code",
   "execution_count": 60,
   "metadata": {},
   "outputs": [],
   "source": [
    "import json\n",
    "ch = r'D:\\Data science\\python for Data science\\python_général\\Udemy - La Formation Complète Python 2021 MP4 [Français]\\34 - Les fichiers\\test.json'\n",
    "with open(ch, 'r') as f:\n",
    "    data = json.load(f)\n",
    "\n",
    "data.extend([i for i in range(10)])\n",
    "\n",
    "with open(ch, 'w') as f:\n",
    "    json.dump(data, f, indent=4)"
   ]
  },
  {
   "cell_type": "code",
   "execution_count": null,
   "metadata": {},
   "outputs": [],
   "source": []
  }
 ],
 "metadata": {
  "kernelspec": {
   "display_name": "Python 3",
   "language": "python",
   "name": "python3"
  },
  "language_info": {
   "codemirror_mode": {
    "name": "ipython",
    "version": 3
   },
   "file_extension": ".py",
   "mimetype": "text/x-python",
   "name": "python",
   "nbconvert_exporter": "python",
   "pygments_lexer": "ipython3",
   "version": "3.12.0"
  }
 },
 "nbformat": 4,
 "nbformat_minor": 2
}
